{
 "cells": [
  {
   "cell_type": "code",
   "execution_count": 12,
   "metadata": {
    "collapsed": true,
    "pycharm": {
     "is_executing": false
    }
   },
   "outputs": [
    {
     "name": "stdout",
     "text": [
      "产生10个0-1的随机数: [0.32369594 0.83994747 0.32658164 0.82395733 0.64979031 0.67501354\n 0.58688355 0.02299914 0.25313796 0.5338965 ]\n"
     ],
     "output_type": "stream"
    }
   ],
   "source": [
    "import numpy as np;\n",
    "import matplotlib.pyplot as pt\n",
    "np.set_printoptions(suppress=True) #不使用科学计数法\n",
    "\"\"\"\n",
    "产生10个随机数(0-1)，返回一个数组[]\n",
    "如：\n",
    "[0.50407706 0.87190965 0.72303881 0.90705667 0.65386597 0.1391347\n",
    " 0.77042464 0.33044415 0.00714851 0.23167251]\n",
    " \"\"\"\n",
    "a10=np.random.rand(10)\n",
    "print(\"产生10个0-1的随机数:\",a10)"
   ]
  },
  {
   "cell_type": "code",
   "execution_count": 13,
   "outputs": [
    {
     "name": "stdout",
     "text": [
      "产生3行2列个0-1的随机数: [[0.41440231 0.64977322]\n [0.39738586 0.94062634]\n [0.48097708 0.09087851]]\n"
     ],
     "output_type": "stream"
    }
   ],
   "source": [
    "#生成3行两列的二维数组\n",
    "a3_2=np.random.rand(3,2)\n",
    "print(\"产生3行2列个0-1的随机数:\",a3_2)"
   ],
   "metadata": {
    "collapsed": false,
    "pycharm": {
     "name": "#%%\n",
     "is_executing": false
    }
   }
  },
  {
   "cell_type": "code",
   "execution_count": 14,
   "outputs": [
    {
     "name": "stdout",
     "text": [
      "[3.0382868  7.62041291 1.80599688 6.52916959 9.19006839 5.96900945\n 4.4935932  7.9550476  2.42397282 4.15344899]\n"
     ],
     "output_type": "stream"
    }
   ],
   "source": [
    "#产生一个 1-10均匀分布的数组,1行10列的二位数组获取第一行就是一维数组\n",
    "a1_10=np.random.uniform(1,10,(1,10))\n",
    "print(a1_10[0])"
   ],
   "metadata": {
    "collapsed": false,
    "pycharm": {
     "name": "#%%\n",
     "is_executing": false
    }
   }
  },
  {
   "cell_type": "code",
   "execution_count": 15,
   "outputs": [
    {
     "name": "stdout",
     "text": [
      "[[-1.12974188 -0.76059402 -0.57685218 -0.47071063 -0.14758121 -0.07428687\n   0.19773211  0.8987196   1.13841408  1.70925953]]\n"
     ],
     "output_type": "stream"
    }
   ],
   "source": [
    "#返回一个指定形状的数组，数组中的值服从标准正态分布（均值为0，方差为1）。\n",
    "# 注意方差为1，就是在-1和1附近均匀分布的值，平均值是0\n",
    "# 1行10列，返回的是二维数组\n",
    "a = np.random.randn(1, 10)\n",
    "print(np.sort(a))\n",
    "\n"
   ],
   "metadata": {
    "collapsed": false,
    "pycharm": {
     "name": "#%%\n",
     "is_executing": false
    }
   }
  },
  {
   "cell_type": "code",
   "execution_count": 16,
   "outputs": [
    {
     "name": "stdout",
     "text": [
      "1.0060761223663786\n"
     ],
     "output_type": "stream"
    }
   ],
   "source": [
    "# 不提供形状，范围一个服从标准正太分布的唯一数字\n",
    "b = np.random.randn()\n",
    "print(b)\n",
    "\n",
    "\n",
    "\n",
    "\n",
    "\n",
    "\n"
   ],
   "metadata": {
    "collapsed": false,
    "pycharm": {
     "name": "#%%\n",
     "is_executing": false
    }
   }
  }
 ],
 "metadata": {
  "kernelspec": {
   "display_name": "Python 3",
   "language": "python",
   "name": "python3"
  },
  "language_info": {
   "codemirror_mode": {
    "name": "ipython",
    "version": 2
   },
   "file_extension": ".py",
   "mimetype": "text/x-python",
   "name": "python",
   "nbconvert_exporter": "python",
   "pygments_lexer": "ipython2",
   "version": "2.7.6"
  },
  "pycharm": {
   "stem_cell": {
    "cell_type": "raw",
    "source": [],
    "metadata": {
     "collapsed": false
    }
   }
  }
 },
 "nbformat": 4,
 "nbformat_minor": 0
}