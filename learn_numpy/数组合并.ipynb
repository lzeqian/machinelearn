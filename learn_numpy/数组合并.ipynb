{
 "cells": [
  {
   "cell_type": "code",
   "execution_count": 65,
   "metadata": {
    "collapsed": true,
    "pycharm": {
     "is_executing": false
    }
   },
   "outputs": [
    {
     "name": "stdout",
     "text": [
      "[[1 2 3]\n [4 5 6]\n [7 8 9]]\n[[-1  4  6]\n [-2  8 11]\n [ 8  3  1]]\n"
     ],
     "output_type": "stream"
    }
   ],
   "source": [
    "import numpy as np\n",
    "# 創建兩個二維矩陣，一般二维矩阵，行表示一个样本，列表示特征\n",
    "# 创建个1-10步长为1的等比数列，修改为3*3的矩阵\n",
    "'''\n",
    "[[1 2 3]\n",
    " [4 5 6]\n",
    " [7 8 9]]\n",
    "'''\n",
    "p=np.arange(1,10).reshape((3,3));\n",
    "p1=np.array([   [-1,4,6],\n",
    "                [-2,8,11],\n",
    "                [8,3,1]\n",
    "            ]);\n",
    "print(p);\n",
    "print(p1);"
   ]
  },
  {
   "cell_type": "code",
   "execution_count": 66,
   "outputs": [
    {
     "name": "stdout",
     "text": [
      "[[ 1  2  3]\n [ 4  5  6]\n [ 7  8  9]\n [-1  4  6]\n [-2  8 11]\n [ 8  3  1]]\n[[ 1  2  3]\n [ 4  5  6]\n [ 7  8  9]\n [-1  4  6]\n [-2  8 11]\n [ 8  3  1]]\n"
     ],
     "output_type": "stream"
    }
   ],
   "source": [
    "'''\n",
    "stack:英文解释 洗牌\n",
    "在纵轴上垂直合并\n",
    "[[ 1  2  3]\n",
    " [ 4  5  6]\n",
    " [ 7  8  9]\n",
    " [-1  4  6]\n",
    " [-2  8 11]\n",
    " [ 8  3  1]]\n",
    "'''\n",
    "print(np.vstack((p,p1))) #垂直合并\n",
    "print(np.concatenate((p,p1),axis=0));#合并矩阵 默认在0号维度上（参考learn_algorithm/axis维度理解.png）拓展也就是已有元素垂直方向上"
   ],
   "metadata": {
    "collapsed": false,
    "pycharm": {
     "name": "#%%\n",
     "is_executing": false
    }
   }
  },
  {
   "cell_type": "code",
   "execution_count": 67,
   "outputs": [
    {
     "name": "stdout",
     "text": [
      "[[ 1  2  3 -1  4  6]\n [ 4  5  6 -2  8 11]\n [ 7  8  9  8  3  1]]\n[[ 1  2  3 -1  4  6]\n [ 4  5  6 -2  8 11]\n [ 7  8  9  8  3  1]]\n"
     ],
     "output_type": "stream"
    }
   ],
   "source": [
    "'''\n",
    "在已有元素水平方向（右边）叠加元素\n",
    "[[ 1  2  3 -1  4  6]\n",
    " [ 4  5  6 -2  8 11]\n",
    " [ 7  8  9  8  3  1]]\n",
    "'''\n",
    "\n",
    "print(np.hstack((p,p1)))\n",
    "print(np.concatenate((p,p1),axis=1));"
   ],
   "metadata": {
    "collapsed": false,
    "pycharm": {
     "name": "#%%\n",
     "is_executing": false
    }
   }
  },
  {
   "cell_type": "code",
   "execution_count": 68,
   "outputs": [
    {
     "name": "stdout",
     "text": [
      "[1 2 3 7 8 9 4 5 6]\n[1 2 3 7 8 9 4 5 6]\n[[1 2 3]\n [7 8 9]\n [4 5 6]]\n"
     ],
     "output_type": "stream"
    }
   ],
   "source": [
    "'''\n",
    "默认所有元素不管多少维度都合并为一个1维数组,两个合并数组可以是不同维度\n",
    "[1 2 3 7 8 9 4 5 6]\n",
    "'''\n",
    "print(np.append([[1,2,3],[7,8,9]],[[4,5,6]]))\n",
    "print(np.append([[1,2,3],[7,8,9]],[4,5,6]))\n",
    "#如果需要同concatenate在坐标轴上连接，对应轴的长度必须是一致的\n",
    "print(np.append([[1,2,3],[7,8,9]],[[4,5,6]],axis=0))\n",
    "#以下在纵轴上的长度是3个右侧的是2个就会报错\n",
    "#print(np.append([[1,2,3],[7,8,9]],[[4,5]],axis=0))"
   ],
   "metadata": {
    "collapsed": false,
    "pycharm": {
     "name": "#%%\n",
     "is_executing": false
    }
   }
  },
  {
   "cell_type": "code",
   "execution_count": 69,
   "outputs": [
    {
     "name": "stdout",
     "text": [
      "[[[ 1 -1]\n  [ 2  4]\n  [ 3  6]]\n\n [[ 4 -2]\n  [ 5  8]\n  [ 6 11]]\n\n [[ 7  8]\n  [ 8  3]\n  [ 9  1]]]\n"
     ],
     "output_type": "stream"
    }
   ],
   "source": [
    "'''\n",
    "深度组合：沿着纵轴方向组合\n",
    "原始数组\n",
    "\n",
    "[[1 2 3]\n",
    " [4 5 6]\n",
    " [7 8 9]]\n",
    "[[-1  4  6]\n",
    " [-2  8 11]\n",
    " [ 8  3  1]] \n",
    " 取出合并的两个数组的一行 沿着纵轴组合 \n",
    "结果：\n",
    "[[[ 1 -1]\n",
    "  [ 2  4]\n",
    "  [ 3  6]]\n",
    " [[ 4 -2]\n",
    "  [ 5  8]\n",
    "  [ 6 11]]\n",
    " [[ 7  8]\n",
    "  [ 8  3]\n",
    "  [ 9  1]]]  \n",
    "'''\n",
    "print(np.dstack((p,p1)))"
   ],
   "metadata": {
    "collapsed": false,
    "pycharm": {
     "name": "#%%\n",
     "is_executing": false
    }
   }
  },
  {
   "cell_type": "code",
   "execution_count": 78,
   "outputs": [
    {
     "data": {
      "text/plain": "array([[1, 2, 4],\n       [3, 6, 8]])"
     },
     "metadata": {},
     "output_type": "execute_result",
     "execution_count": 78
    }
   ],
   "source": [
    "#stack的本质作用是在干什么？stack为堆叠的意思，它的本质是在给数组升维\n",
    "#axios=0表示在一维上堆叠，axis表示在二维上堆叠，参考：https://blog.csdn.net/qq_37006426/article/details/116238818\n",
    "np.stack(([1,2,4],[3,6,8]),axis=0)\n"
   ],
   "metadata": {
    "collapsed": false,
    "pycharm": {
     "name": "#%%\n",
     "is_executing": false
    }
   }
  }
 ],
 "metadata": {
  "kernelspec": {
   "display_name": "Python 3",
   "language": "python",
   "name": "python3"
  },
  "language_info": {
   "codemirror_mode": {
    "name": "ipython",
    "version": 2
   },
   "file_extension": ".py",
   "mimetype": "text/x-python",
   "name": "python",
   "nbconvert_exporter": "python",
   "pygments_lexer": "ipython2",
   "version": "2.7.6"
  },
  "pycharm": {
   "stem_cell": {
    "cell_type": "raw",
    "source": [],
    "metadata": {
     "collapsed": false
    }
   }
  }
 },
 "nbformat": 4,
 "nbformat_minor": 0
}