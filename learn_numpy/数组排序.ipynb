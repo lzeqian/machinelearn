{
 "cells": [
  {
   "cell_type": "code",
   "execution_count": 4,
   "metadata": {
    "collapsed": true,
    "pycharm": {
     "is_executing": false
    }
   },
   "outputs": [
    {
     "name": "stdout",
     "text": [
      "[[-1  8]\n [-2  4]]\n[[-1 -2]\n [ 4  8]]\n"
     ],
     "output_type": "stream"
    }
   ],
   "source": [
    "import numpy as np\n",
    "#默认按照行排序\n",
    "p=np.array([[-1,8],\n",
    "            [4,-2]\n",
    "            ]);\n",
    "# 默认是在横轴上排序，也就是-1和8排序，4和-2排序\n",
    "print(np.sort(p))\n",
    "# 指定为纵轴上排序也就是是-1和4排序，8和-2排序\n",
    "print(np.sort(p,axis=0))\n"
   ]
  },
  {
   "cell_type": "code",
   "execution_count": 5,
   "outputs": [
    {
     "name": "stdout",
     "text": [
      "[(b'', 20) (b'', 30) (b'', 60)]\n"
     ],
     "output_type": "stream"
    }
   ],
   "source": [
    "#自定义对象数据类型 参考http://www.runoob.com/numpy/numpy-dtype.html 按照字段排序\n",
    "mtype=np.dtype([('name','S'),('age',int)])\n",
    "p=np.array([('zs',20),('ww',60),('zl',30)],dtype=mtype)\n",
    "print(np.sort(p,order='age'))\n",
    "\n"
   ],
   "metadata": {
    "collapsed": false,
    "pycharm": {
     "name": "#%%\n",
     "is_executing": false
    }
   }
  },
  {
   "cell_type": "code",
   "execution_count": 6,
   "outputs": [
    {
     "name": "stdout",
     "text": [
      "[1 2 0]\n"
     ],
     "output_type": "stream"
    }
   ],
   "source": [
    "p=np.array([3,1,2])\n",
    "#argsort() 函数返回的是数组值从小到大的索引值。\n",
    "print(np.argsort(p))"
   ],
   "metadata": {
    "collapsed": false,
    "pycharm": {
     "name": "#%%\n",
     "is_executing": false
    }
   }
  },
  {
   "cell_type": "code",
   "execution_count": 7,
   "outputs": [
    {
     "name": "stdout",
     "text": [
      "[3 2 1]\n"
     ],
     "output_type": "stream"
    }
   ],
   "source": [
    "#逆序\n",
    "print(np.sort(p)[::-1])\n"
   ],
   "metadata": {
    "collapsed": false,
    "pycharm": {
     "name": "#%%\n",
     "is_executing": false
    }
   }
  }
 ],
 "metadata": {
  "kernelspec": {
   "display_name": "Python 3",
   "language": "python",
   "name": "python3"
  },
  "language_info": {
   "codemirror_mode": {
    "name": "ipython",
    "version": 2
   },
   "file_extension": ".py",
   "mimetype": "text/x-python",
   "name": "python",
   "nbconvert_exporter": "python",
   "pygments_lexer": "ipython2",
   "version": "2.7.6"
  },
  "pycharm": {
   "stem_cell": {
    "cell_type": "raw",
    "source": [],
    "metadata": {
     "collapsed": false
    }
   }
  }
 },
 "nbformat": 4,
 "nbformat_minor": 0
}