{
 "cells": [
  {
   "cell_type": "code",
   "execution_count": 11,
   "metadata": {
    "collapsed": true,
    "pycharm": {
     "is_executing": false
    }
   },
   "outputs": [
    {
     "name": "stdout",
     "text": [
      "[[-4 24]\n [-6  8]]\n[[-4 24]\n [-6  8]]\n"
     ],
     "output_type": "stream"
    }
   ],
   "source": [
    "import numpy as np\n",
    "p=np.array([[-1,4],\n",
    "            [-2,8]\n",
    "            ]);\n",
    "p1=np.array([[4,6],\n",
    "            [3,1]\n",
    "            ]);\n",
    "#矩阵乘法是将各个位置的值相乘,参考：https://www.cnblogs.com/hun2014/articles/14676974.html\n",
    "print(p*p1);\n",
    "print(np.multiply(p,p1)) #等价于上面"
   ]
  },
  {
   "cell_type": "code",
   "execution_count": 12,
   "outputs": [
    {
     "name": "stdout",
     "text": [
      "[[ 8 -2]\n [16 -4]]\n[[ 8 -2]\n [16 -4]]\n"
     ],
     "output_type": "stream"
    }
   ],
   "source": [
    "# 矩阵叉乘又叫矩阵乘，只有前者的列数等于后者的行数，才能进行叉乘运算。\n",
    "#参考learn_algorithm/矩阵乘法.png\n",
    "print(p.dot(p1))\n",
    "print(np.matmul(p,p1))#两个数组的矩阵积，和上面效果相同"
   ],
   "metadata": {
    "collapsed": false,
    "pycharm": {
     "name": "#%%\n",
     "is_executing": false
    }
   }
  },
  {
   "cell_type": "code",
   "execution_count": 13,
   "outputs": [
    {
     "name": "stdout",
     "text": [
      "11\n"
     ],
     "output_type": "stream"
    }
   ],
   "source": [
    "#概念参考：https://www.shuxuele.com/algebra/vectors-dot-product.html\n",
    "print(np.vdot([1,2],[3,4])) #两个【向量】的点积  1*2+2*3=8\n"
   ],
   "metadata": {
    "collapsed": false,
    "pycharm": {
     "name": "#%%\n",
     "is_executing": false
    }
   }
  },
  {
   "cell_type": "code",
   "execution_count": 17,
   "outputs": [
    {
     "name": "stdout",
     "text": [
      "0.0\n"
     ],
     "output_type": "stream"
    }
   ],
   "source": [
    "#行列式：https://www.shuxuele.com/algebra/matrix-determinant.html\n",
    "print(np.linalg.det(p))\n"
   ],
   "metadata": {
    "collapsed": false,
    "pycharm": {
     "name": "#%%\n",
     "is_executing": false
    }
   }
  },
  {
   "cell_type": "code",
   "execution_count": 20,
   "outputs": [
    {
     "name": "stdout",
     "text": [
      "[[20  1]\n [40  2]]\n"
     ],
     "output_type": "stream"
    },
    {
     "traceback": [
      "\u001b[1;31m---------------------------------------------------------------------------\u001b[0m",
      "\u001b[1;31mTypeError\u001b[0m                                 Traceback (most recent call last)",
      "\u001b[1;32m<ipython-input-20-6e13df05d2ae>\u001b[0m in \u001b[0;36m<module>\u001b[1;34m\u001b[0m\n\u001b[0;32m      1\u001b[0m \u001b[1;31m#矩阵的内积\u001b[0m\u001b[1;33m\u001b[0m\u001b[1;33m\u001b[0m\u001b[1;33m\u001b[0m\u001b[0m\n\u001b[0;32m      2\u001b[0m \u001b[0mprint\u001b[0m\u001b[1;33m(\u001b[0m\u001b[0mnp\u001b[0m\u001b[1;33m.\u001b[0m\u001b[0minner\u001b[0m\u001b[1;33m(\u001b[0m\u001b[0mp\u001b[0m\u001b[1;33m,\u001b[0m\u001b[0mp1\u001b[0m\u001b[1;33m)\u001b[0m\u001b[1;33m)\u001b[0m\u001b[1;33m\u001b[0m\u001b[1;33m\u001b[0m\u001b[0m\n\u001b[1;32m----> 3\u001b[1;33m \u001b[0mprint\u001b[0m\u001b[1;33m(\u001b[0m\u001b[0mnp\u001b[0m\u001b[1;33m.\u001b[0m\u001b[0mlinalg\u001b[0m\u001b[1;33m.\u001b[0m\u001b[0msolve\u001b[0m\u001b[1;33m(\u001b[0m\u001b[0mp\u001b[0m\u001b[1;33m)\u001b[0m\u001b[1;33m)\u001b[0m\u001b[1;33m\u001b[0m\u001b[1;33m\u001b[0m\u001b[0m\n\u001b[0m",
      "\u001b[1;32m<__array_function__ internals>\u001b[0m in \u001b[0;36msolve\u001b[1;34m(*args, **kwargs)\u001b[0m\n",
      "\u001b[1;31mTypeError\u001b[0m: _solve_dispatcher() missing 1 required positional argument: 'b'"
     ],
     "ename": "TypeError",
     "evalue": "_solve_dispatcher() missing 1 required positional argument: 'b'",
     "output_type": "error"
    }
   ],
   "source": [
    "#矩阵的内积 参考：https://blog.csdn.net/zhinanpolang/article/details/104957513\n",
    "print(np.inner(p,p1))"
   ],
   "metadata": {
    "collapsed": false,
    "pycharm": {
     "name": "#%%\n",
     "is_executing": false
    }
   }
  },
  {
   "cell_type": "code",
   "execution_count": 22,
   "outputs": [
    {
     "name": "stdout",
     "text": [
      "[[-5.  2.]\n [ 3. -1.]]\n"
     ],
     "output_type": "stream"
    }
   ],
   "source": [
    "#求逆矩阵,概念参考：learn_algorithm/逆矩阵.png\n",
    "print(np.linalg.inv([[1,2],[3,5]]))"
   ],
   "metadata": {
    "collapsed": false,
    "pycharm": {
     "name": "#%%\n",
     "is_executing": false
    }
   }
  },
  {
   "cell_type": "code",
   "execution_count": 23,
   "outputs": [
    {
     "name": "stdout",
     "text": [
      "[[-1 -2]\n [ 4  8]\n [ 5  6]]\n[[-1 -2]\n [ 4  8]\n [ 5  6]]\n"
     ],
     "output_type": "stream"
    }
   ],
   "source": [
    "#矩阵的转置\n",
    "p=np.array([[-1,4,5],\n",
    "            [-2,8,6]\n",
    "            ]);\n",
    "#将第一行转换成第一列 其他行转换其他列，第i行转换为第i列\n",
    "#行列个数发生了变化\n",
    "print(np.transpose(p))\n",
    "#等价于\n",
    "print(p.T)\n"
   ],
   "metadata": {
    "collapsed": false,
    "pycharm": {
     "name": "#%%\n",
     "is_executing": false
    }
   }
  },
  {
   "cell_type": "code",
   "execution_count": 26,
   "outputs": [
    {
     "name": "stdout",
     "text": [
      "8 -2\n4 3\n[5 8]\n"
     ],
     "output_type": "stream"
    }
   ],
   "source": [
    "#不是一维数组会转换为[-1,4,5,-2,8,6]\n",
    "#求最大值和最小值\n",
    "print(np.max(p),np.min(p))\n",
    "#求最大|小值的坐标\n",
    "print(np.argmax(p),np.argmin(p))\n",
    "#获取当前维度的最大值，制定了维度不会转换为一维数组 axis是横轴就是每一行的最大值\n",
    "print(np.max(p,axis=1))"
   ],
   "metadata": {
    "collapsed": false,
    "pycharm": {
     "name": "#%%\n",
     "is_executing": false
    }
   }
  },
  {
   "cell_type": "code",
   "execution_count": 27,
   "outputs": [
    {
     "name": "stdout",
     "text": [
      "3.5\n[3.5 3.5]\n[5. 2.]\n"
     ],
     "output_type": "stream"
    }
   ],
   "source": [
    "#求平均值\n",
    "p1=np.array([[4,6],\n",
    "            [3,1]\n",
    "            ]);\n",
    "print(np.mean(p1))  #4+6+3+1/4=3.5 也可以设置水平和垂直\n",
    "print(np.mean(p1,axis=0)) #[3.5,3.5] 垂直\n",
    "print(np.mean(p1,axis=1)) #[5,2] 水平\n"
   ],
   "metadata": {
    "collapsed": false,
    "pycharm": {
     "name": "#%%\n",
     "is_executing": false
    }
   }
  },
  {
   "cell_type": "code",
   "execution_count": 28,
   "outputs": [
    {
     "name": "stdout",
     "text": [
      "1570.96\n1570.96\n1570.96\n"
     ],
     "output_type": "stream"
    }
   ],
   "source": [
    "#求方差\n",
    "arr = np.array([1, 2, 3, 100, 55])\n",
    "# var 方差即各项-均值的平方求和后再除以N ，表示数据离平均数据的距离的平均值，表示数据的离散程度\n",
    "# 方差越小表示所有数据离平均值越小，越聚集，否则越离散。\n",
    "print(np.var(arr))\n",
    "print(np.sum(np.abs(arr - np.mean(arr)) ** 2) / len(arr))  # 等价代码\n",
    "print(np.mean(abs(arr - arr.mean()) ** 2))  # 等价代码"
   ],
   "metadata": {
    "collapsed": false,
    "pycharm": {
     "name": "#%%\n",
     "is_executing": false
    }
   }
  },
  {
   "cell_type": "code",
   "execution_count": 29,
   "outputs": [
    {
     "name": "stdout",
     "text": [
      "39.635337768208814\n39.635337768208814\n"
     ],
     "output_type": "stream"
    }
   ],
   "source": [
    "# std：表示标准差，是var的平方根。\n",
    "print(np.std(arr))\n",
    "print(np.sqrt(np.var(arr)));"
   ],
   "metadata": {
    "collapsed": false,
    "pycharm": {
     "name": "#%%\n",
     "is_executing": false
    }
   }
  },
  {
   "cell_type": "code",
   "execution_count": 45,
   "outputs": [
    {
     "name": "stdout",
     "text": [
      "1963.6999999999998\n1963.7\n[3.  3.1 3.3 4. ] [3.1 3.5 4.1 4.1]\n",
      "[[3.  3.1 3.3 4. ]\n [3.1 3.5 4.1 4.1]]\n[[0.005 0.02  0.04  0.005]\n [0.02  0.08  0.16  0.02 ]\n [0.04  0.16  0.32  0.04 ]\n [0.005 0.02  0.04  0.005]]\n[[0.20333333 0.16666667]\n [0.16666667 0.24      ]]\n"
     ],
     "output_type": "stream"
    },
    {
     "data": {
      "text/plain": "<Figure size 432x288 with 1 Axes>",
      "image/png": "[encoded data removed]"
     },
     "metadata": {
      "needs_background": "light"
     },
     "output_type": "display_data"
    }
   ],
   "source": [
    "# cov：协方差 ,用来表示两个点的运行轨迹是否一致\n",
    "# 协方差理解：learn_algorithm/如何通俗易懂地解释「协方差」与「相关系数」的概念.png\n",
    "# 协方差本来是用来计算多个特征的趋近程度，如果没有第二个特征就是一维数组，就等于方差,协方差是除以n-1\n",
    "print(np.cov(arr));\n",
    "print(np.sum(np.abs(arr - np.mean(arr)) ** 2) / (len(arr) - 1))  # 等价代码\n",
    "# 协方差主要是多个特征\n",
    "pa=np.array([\n",
    "     [3,3.1] ,\n",
    "     [3.1,3.5] ,\n",
    "     [3.3,4.1] ,\n",
    "     [4,4.1] \n",
    "   ])\n",
    "x=pa[:,0]\n",
    "y=pa[:,1]\n",
    "print(x,y)\n",
    "import matplotlib.pyplot as plot;\n",
    "plot.plot(x,y,'.',color='red')\n",
    "plot.show()\n",
    "print(pa.T)\n",
    "print(np.cov(pa));\n",
    "print(np.cov(pa.T));"
   ],
   "metadata": {
    "collapsed": false,
    "pycharm": {
     "name": "#%%\n",
     "is_executing": false
    }
   }
  }
 ],
 "metadata": {
  "kernelspec": {
   "display_name": "Python 3",
   "language": "python",
   "name": "python3"
  },
  "language_info": {
   "codemirror_mode": {
    "name": "ipython",
    "version": 2
   },
   "file_extension": ".py",
   "mimetype": "text/x-python",
   "name": "python",
   "nbconvert_exporter": "python",
   "pygments_lexer": "ipython2",
   "version": "2.7.6"
  },
  "pycharm": {
   "stem_cell": {
    "cell_type": "raw",
    "source": [],
    "metadata": {
     "collapsed": false
    }
   }
  }
 },
 "nbformat": 4,
 "nbformat_minor": 0
}