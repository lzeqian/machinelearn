{
 "cells": [
  {
   "cell_type": "code",
   "execution_count": 113,
   "metadata": {
    "collapsed": true,
    "pycharm": {
     "is_executing": false
    }
   },
   "outputs": [
    {
     "name": "stdout",
     "text": [
      "[[-4 24]\n [-6  8]]\n[[-4 24]\n [-6  8]]\n"
     ],
     "output_type": "stream"
    }
   ],
   "source": [
    "import numpy as np\n",
    "p=np.array([[-1,4],\n",
    "            [-2,8]\n",
    "            ]);\n",
    "p1=np.array([[4,6],\n",
    "            [3,1]\n",
    "            ]);\n",
    "#矩阵乘法是将各个位置的值相乘,参考：https://www.cnblogs.com/hun2014/articles/14676974.html\n",
    "print(p*p1);\n",
    "print(np.multiply(p,p1)) #等价于上面"
   ]
  },
  {
   "cell_type": "code",
   "execution_count": 114,
   "outputs": [
    {
     "name": "stdout",
     "text": [
      "[[ 8 -2]\n [16 -4]]\n[[ 8 -2]\n [16 -4]]\n"
     ],
     "output_type": "stream"
    }
   ],
   "source": [
    "# 矩阵叉乘又叫矩阵乘，只有前者的列数等于后者的行数，才能进行叉乘运算。\n",
    "#参考learn_algorithm/矩阵乘法.png\n",
    "print(p.dot(p1))\n",
    "print(np.matmul(p,p1))#两个数组的矩阵积，和上面效果相同"
   ],
   "metadata": {
    "collapsed": false,
    "pycharm": {
     "name": "#%%\n",
     "is_executing": false
    }
   }
  },
  {
   "cell_type": "code",
   "execution_count": 115,
   "outputs": [
    {
     "name": "stdout",
     "text": [
      "11\n"
     ],
     "output_type": "stream"
    }
   ],
   "source": [
    "#概念参考：https://www.shuxuele.com/algebra/vectors-dot-product.html\n",
    "print(np.vdot([1,2],[3,4])) #两个【向量】的点积  1*2+2*3=8\n"
   ],
   "metadata": {
    "collapsed": false,
    "pycharm": {
     "name": "#%%\n",
     "is_executing": false
    }
   }
  },
  {
   "cell_type": "code",
   "execution_count": 116,
   "outputs": [
    {
     "name": "stdout",
     "text": [
      "0.0\n"
     ],
     "output_type": "stream"
    }
   ],
   "source": [
    "#行列式：https://www.shuxuele.com/algebra/matrix-determinant.html\n",
    "print(np.linalg.det(p))\n"
   ],
   "metadata": {
    "collapsed": false,
    "pycharm": {
     "name": "#%%\n",
     "is_executing": false
    }
   }
  },
  {
   "cell_type": "code",
   "execution_count": 117,
   "outputs": [
    {
     "name": "stdout",
     "text": [
      "[[20  1]\n [40  2]]\n"
     ],
     "output_type": "stream"
    }
   ],
   "source": [
    "#矩阵的内积 参考：https://blog.csdn.net/zhinanpolang/article/details/104957513\n",
    "print(np.inner(p,p1))"
   ],
   "metadata": {
    "collapsed": false,
    "pycharm": {
     "name": "#%%\n",
     "is_executing": false
    }
   }
  },
  {
   "cell_type": "code",
   "execution_count": 118,
   "outputs": [
    {
     "name": "stdout",
     "text": [
      "[[-5.  2.]\n [ 3. -1.]]\n"
     ],
     "output_type": "stream"
    }
   ],
   "source": [
    "#求逆矩阵,概念参考：learn_algorithm/逆矩阵.png\n",
    "print(np.linalg.inv([[1,2],[3,5]]))"
   ],
   "metadata": {
    "collapsed": false,
    "pycharm": {
     "name": "#%%\n",
     "is_executing": false
    }
   }
  },
  {
   "cell_type": "code",
   "execution_count": 119,
   "outputs": [
    {
     "name": "stdout",
     "text": [
      "[[-1 -2]\n [ 4  8]\n [ 5  6]]\n[[-1 -2]\n [ 4  8]\n [ 5  6]]\n"
     ],
     "output_type": "stream"
    }
   ],
   "source": [
    "#矩阵的转置\n",
    "p=np.array([[-1,4,5],\n",
    "            [-2,8,6]\n",
    "            ]);\n",
    "#将第一行转换成第一列 其他行转换其他列，第i行转换为第i列\n",
    "#行列个数发生了变化\n",
    "print(np.transpose(p))\n",
    "#等价于\n",
    "print(p.T)\n"
   ],
   "metadata": {
    "collapsed": false,
    "pycharm": {
     "name": "#%%\n",
     "is_executing": false
    }
   }
  },
  {
   "cell_type": "code",
   "execution_count": 120,
   "outputs": [
    {
     "name": "stdout",
     "text": [
      "8 -2\n4 3\n[5 8]\n"
     ],
     "output_type": "stream"
    }
   ],
   "source": [
    "#不是一维数组会转换为[-1,4,5,-2,8,6]\n",
    "#求最大值和最小值\n",
    "print(np.max(p),np.min(p))\n",
    "#求最大|小值的坐标\n",
    "print(np.argmax(p),np.argmin(p))\n",
    "#获取当前维度的最大值，制定了维度不会转换为一维数组 axis是横轴就是每一行的最大值\n",
    "print(np.max(p,axis=1))"
   ],
   "metadata": {
    "collapsed": false,
    "pycharm": {
     "name": "#%%\n",
     "is_executing": false
    }
   }
  },
  {
   "cell_type": "code",
   "execution_count": 121,
   "outputs": [
    {
     "name": "stdout",
     "text": [
      "3.5\n[3.5 3.5]\n[5. 2.]\n"
     ],
     "output_type": "stream"
    }
   ],
   "source": [
    "#求平均值\n",
    "p1=np.array([[4,6],\n",
    "            [3,1]\n",
    "            ]);\n",
    "print(np.mean(p1))  #4+6+3+1/4=3.5 也可以设置水平和垂直\n",
    "print(np.mean(p1,axis=0)) #[3.5,3.5] 垂直\n",
    "print(np.mean(p1,axis=1)) #[5,2] 水平\n"
   ],
   "metadata": {
    "collapsed": false,
    "pycharm": {
     "name": "#%%\n",
     "is_executing": false
    }
   }
  },
  {
   "cell_type": "code",
   "execution_count": 122,
   "outputs": [
    {
     "name": "stdout",
     "text": [
      "1570.96\n1570.96\n1570.96\n"
     ],
     "output_type": "stream"
    }
   ],
   "source": [
    "#求方差\n",
    "arr = np.array([1, 2, 3, 100, 55])\n",
    "# var 方差即各项-均值的平方求和后再除以N ，表示数据离平均数据的距离的平均值，表示数据的离散程度\n",
    "# 方差越小表示所有数据离平均值越小，越聚集，否则越离散。\n",
    "print(np.var(arr))\n",
    "print(np.sum(np.abs(arr - np.mean(arr)) ** 2) / len(arr))  # 等价代码\n",
    "print(np.mean(abs(arr - arr.mean()) ** 2))  # 等价代码"
   ],
   "metadata": {
    "collapsed": false,
    "pycharm": {
     "name": "#%%\n",
     "is_executing": false
    }
   }
  },
  {
   "cell_type": "code",
   "execution_count": 123,
   "outputs": [
    {
     "name": "stdout",
     "text": [
      "39.635337768208814\n39.635337768208814\n"
     ],
     "output_type": "stream"
    }
   ],
   "source": [
    "# std：表示标准差，是var的平方根。\n",
    "print(np.std(arr))\n",
    "print(np.sqrt(np.var(arr)));"
   ],
   "metadata": {
    "collapsed": false,
    "pycharm": {
     "name": "#%%\n",
     "is_executing": false
    }
   }
  },
  {
   "cell_type": "code",
   "execution_count": 124,
   "outputs": [
    {
     "name": "stdout",
     "text": [
      "1963.6999999999998\n1963.7\n分别获取X和Y: [[1]\n [3]\n [4]\n [5]] [[2]\n [6]\n [2]\n [2]]\nx和y特征的均值 3.25 3.0\ncov(x,y)= ",
      "-0.3333333333333333\n[[1 3 4 5]\n [2 6 2 2]]\nconv [[ 2.91666667 -0.33333333]\n [-0.33333333  4.        ]]\nconv [[ 2.91666667 -0.33333333]\n [-0.33333333  4.        ]]\n"
     ],
     "output_type": "stream"
    }
   ],
   "source": [
    "# cov：协方差 ,用来表示两个点的运行轨迹是否一致\n",
    "# 协方差理解：learn_algorithm/如何通俗易懂地解释「协方差」与「相关系数」的概念.png\n",
    "# 协方差本来是用来计算多个特征的趋近程度，如果没有第二个特征就是一维数组，就等于方差,协方差是除以n-1\n",
    "print(np.cov(arr));\n",
    "print(np.sum(np.abs(arr - np.mean(arr)) ** 2) / (len(arr) - 1))  # 等价代码\n",
    "\n",
    "# 协方差主要是多个特征\n",
    "pa=np.array([\n",
    "     [1,2] ,\n",
    "     [3,6] ,\n",
    "     [4,2] ,\n",
    "     [5,2] \n",
    "   ])\n",
    "'''\n",
    " x应该是个二维矩阵表示\n",
    " [\n",
    "     [1] ,\n",
    "     [3] ,\n",
    "     [4] ,\n",
    "     [5] \n",
    "   ]\n",
    "'''\n",
    "x=np.array([pa[:,0]]).reshape((4,1))\n",
    "'''\n",
    " y应该是个二维矩阵表示\n",
    " [\n",
    "     [2] ,\n",
    "     [6] ,\n",
    "     [2] ,\n",
    "     [2] \n",
    "   ]\n",
    "'''\n",
    "y=np.array([pa[:,1]]).reshape((4,1))\n",
    "print(\"分别获取X和Y:\",x,y)\n",
    "x_mean=np.mean(x)\n",
    "y_mean=np.mean(y)\n",
    "print(\"x和y特征的均值\",x_mean,y_mean)\n",
    "'''\n",
    "这里只是求第一个特征x（第一列）和第二个特征(第二列)的方差cov(x,y)，\n",
    "，实际还有cov(x,x),cov(y,x),cov(y,y)\n",
    "x-x_mean转置T就变成了\n",
    " [\n",
    "     [1-xmean,3-xmean,4-xmean,5-xmean] \n",
    " ]\n",
    "y-ymean是\n",
    " [\n",
    "     [2-ymean] ,\n",
    "     [6-ymean] ,\n",
    "     [2-ymean] ,\n",
    "     [2-ymean] \n",
    " ]\n",
    "(x-x_mean).T.dot(y-y_mean)就变成了矩阵乘法了\n",
    "\n",
    "（1-xmean）*（2-ymean）+（3-xmean）*（6-ymean）+（4-xmean）*（2-ymean）+（5-xmean）*（2-ymean）\n",
    "然后除以n-1就是协方差了cov(x,y)\n",
    "'''\n",
    "print(\"cov(x,y)=\",np.sum((x-x_mean).T.dot(y-y_mean))/(len(pa)-1))\n",
    "\n",
    "#数学表示横表示列，竖表示行，默认行横表示特征\n",
    "'''\n",
    "[[1 3 4 5]\n",
    " [2 6 2 2]]\n",
    "'''\n",
    "print(pa.T)\n",
    "print(\"conv\",np.cov(pa.T))\n",
    "# 使用rowvar=False，表示列是变量是特征\n",
    "print(\"conv\",np.cov(pa,rowvar=False))"
   ],
   "metadata": {
    "collapsed": false,
    "pycharm": {
     "name": "#%%\n",
     "is_executing": false
    }
   }
  }
 ],
 "metadata": {
  "kernelspec": {
   "display_name": "Python 3",
   "language": "python",
   "name": "python3"
  },
  "language_info": {
   "codemirror_mode": {
    "name": "ipython",
    "version": 2
   },
   "file_extension": ".py",
   "mimetype": "text/x-python",
   "name": "python",
   "nbconvert_exporter": "python",
   "pygments_lexer": "ipython2",
   "version": "2.7.6"
  },
  "pycharm": {
   "stem_cell": {
    "cell_type": "raw",
    "source": [],
    "metadata": {
     "collapsed": false
    }
   }
  }
 },
 "nbformat": 4,
 "nbformat_minor": 0
}