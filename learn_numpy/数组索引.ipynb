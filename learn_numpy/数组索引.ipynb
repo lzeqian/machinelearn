{
 "cells": [
  {
   "cell_type": "code",
   "execution_count": 2,
   "metadata": {
    "collapsed": true,
    "pycharm": {
     "is_executing": false
    }
   },
   "outputs": [
    {
     "name": "stdout",
     "text": [
      "int32\n(4, 4)\n[[ 0  1  2  3]\n [ 4  5  6  7]\n [ 8  9 10 11]\n [12 13 14 15]]\n"
     ],
     "output_type": "stream"
    }
   ],
   "source": [
    "import numpy as np\n",
    "'''\n",
    "  注意：下标从0开始。\n",
    "  矩阵[行]：获取第几行的数据 获取一维数组\n",
    "  矩阵[行][列]：获取第几行第几列数据 获取一个数据\n",
    "  矩阵[start:stop:step]:表示获取从start到stop行数据，步数为step 获取二维数组，以行为单位截取\n",
    "  矩阵[行,列]:获取第几行第几列数据 获取一个数据，和矩阵[行][列]一致\n",
    "  矩阵[行范围1：行范围2,列范围1：列范围2]:获取从行范围1到行范围2数据，列范围1到列范围2的交叉数据\n",
    "\n",
    "'''\n",
    "p=np.array([n for n in range(0,16)]).reshape((4,4))\n",
    "print(p.dtype)\n",
    "print(p.shape)\n",
    "print(p);"
   ]
  },
  {
   "cell_type": "code",
   "execution_count": 3,
   "outputs": [
    {
     "name": "stdout",
     "text": [
      "[0 1 2 3]\n"
     ],
     "output_type": "stream"
    }
   ],
   "source": [
    "'''\n",
    "返回第1行\n",
    "[0 1 2 3]\n",
    "'''\n",
    "print(p[0])\n"
   ],
   "metadata": {
    "collapsed": false,
    "pycharm": {
     "name": "#%%\n",
     "is_executing": false
    }
   }
  },
  {
   "cell_type": "code",
   "execution_count": 7,
   "outputs": [
    {
     "name": "stdout",
     "text": [
      "[[0 1 2 3]]\n"
     ],
     "output_type": "stream"
    }
   ],
   "source": [
    "'''\n",
    "返回第1行到第二行 但是不包括第二行 还是个二维数组\n",
    ":表示当前维度   通过将由冒号分隔的切片参数(start:stop:step)直接提供给ndarray对象\n",
    ",用于分割维度\n",
    "[[0 1 2 3]]\n",
    "'''\n",
    "print(p[0:1])"
   ],
   "metadata": {
    "collapsed": false,
    "pycharm": {
     "name": "#%%\n",
     "is_executing": false
    }
   }
  },
  {
   "cell_type": "code",
   "execution_count": 6,
   "outputs": [
    {
     "name": "stdout",
     "text": [
      "[[ 0  1  2  3]\n [ 8  9 10 11]]\n"
     ],
     "output_type": "stream"
    }
   ],
   "source": [
    "'''\n",
    "表示从 第一行到第四行不包括4 每次跳 2步\n",
    "[[ 0  1  2  3]\n",
    " [ 8  9 10 11]]\n",
    "'''\n",
    "print(p[0:3:2])"
   ],
   "metadata": {
    "collapsed": false,
    "pycharm": {
     "name": "#%%\n",
     "is_executing": false
    }
   }
  },
  {
   "cell_type": "code",
   "execution_count": 5,
   "outputs": [
    {
     "name": "stdout",
     "text": [
      "2\n"
     ],
     "output_type": "stream"
    }
   ],
   "source": [
    "'''\n",
    "返回第 1行 第3列的元素,等价于p[0][2]\n",
    "2\n",
    "'''\n",
    "print(p[0,2])\n"
   ],
   "metadata": {
    "collapsed": false,
    "pycharm": {
     "name": "#%%\n",
     "is_executing": false
    }
   }
  },
  {
   "cell_type": "code",
   "execution_count": 8,
   "outputs": [
    {
     "name": "stdout",
     "text": [
      "[1 2]\n"
     ],
     "output_type": "stream"
    }
   ],
   "source": [
    "'''\n",
    "#返回第1行的第2-3个元素 都是包含开头不包含结尾\n",
    "[1 2]\n",
    "'''\n",
    "print(p[0,1:3])"
   ],
   "metadata": {
    "collapsed": false,
    "pycharm": {
     "name": "#%%\n",
     "is_executing": false
    }
   }
  },
  {
   "cell_type": "code",
   "execution_count": 9,
   "outputs": [
    {
     "name": "stdout",
     "text": [
      "[[ 0  1  2  3]\n [ 4  5  6  7]\n [ 8  9 10 11]\n [12 13 14 15]]\n"
     ],
     "output_type": "stream"
    }
   ],
   "source": [
    "#返回所有行和所有列\n",
    "print(p[:,:])\n"
   ],
   "metadata": {
    "collapsed": false,
    "pycharm": {
     "name": "#%%\n",
     "is_executing": false
    }
   }
  },
  {
   "cell_type": "code",
   "execution_count": 10,
   "outputs": [
    {
     "name": "stdout",
     "text": [
      "[[ 6  7]\n [10 11]\n [14 15]]\n"
     ],
     "output_type": "stream"
    }
   ],
   "source": [
    "#返回第二行和第三列所有元素\n",
    "print(p[1:,2:])\n",
    "\n"
   ],
   "metadata": {
    "collapsed": false,
    "pycharm": {
     "name": "#%%\n",
     "is_executing": false
    }
   }
  },
  {
   "cell_type": "code",
   "execution_count": 11,
   "outputs": [
    {
     "name": "stdout",
     "text": [
      "[12 13 14 15]\n"
     ],
     "output_type": "stream"
    }
   ],
   "source": [
    "'''\n",
    "-1表示最后一行\n",
    "[12 13 14 15]\n",
    "'''\n",
    "print(p[-1])"
   ],
   "metadata": {
    "collapsed": false,
    "pycharm": {
     "name": "#%%\n",
     "is_executing": false
    }
   }
  },
  {
   "cell_type": "code",
   "execution_count": 12,
   "outputs": [
    {
     "name": "stdout",
     "text": [
      "15\n"
     ],
     "output_type": "stream"
    }
   ],
   "source": [
    "''' \n",
    "表示最后一行和最后一列\n",
    "15\n",
    "'''\n",
    "print(p[-1,-1])"
   ],
   "metadata": {
    "collapsed": false,
    "pycharm": {
     "name": "#%%\n",
     "is_executing": false
    }
   }
  },
  {
   "cell_type": "code",
   "execution_count": 14,
   "outputs": [
    {
     "name": "stdout",
     "text": [
      "[2 1 3]\n"
     ],
     "output_type": "stream"
    }
   ],
   "source": [
    "#逆序\n",
    "print(np.array([3,1,2])[::-1])"
   ],
   "metadata": {
    "collapsed": false,
    "pycharm": {
     "name": "#%%\n",
     "is_executing": false
    }
   }
  },
  {
   "cell_type": "code",
   "execution_count": 13,
   "outputs": [
    {
     "name": "stdout",
     "text": [
      "[ 6  7  8  9 10 11 12 13 14 15]\n[ 0  2  4  6  8 10 12 14]\n[ 1.  2. nan nan]\n[ True  True False False]\n[1. 2.]\n"
     ],
     "output_type": "stream"
    }
   ],
   "source": [
    "''' 找出所有大于5的，转换成1维数据\n",
    "[ 6  7  8  9 10 11 12 13 14 15]\n",
    "'''\n",
    "print(p[p>5])\n",
    "#找出所有偶数，转换成1维数据\n",
    "print(p[p%2==0])\n",
    "#查找所有的数组 取反，下面四行是都是取反的例子，np.nan表示为一个非数字\n",
    "a=np.array([1,2,np.nan,np.nan])\n",
    "#[ 1.  2. nan nan]\n",
    "print(a)\n",
    "#[ True  True False False]\n",
    "print(~np.isnan(a))\n",
    "#[1. 2.]\n",
    "print(a[~np.isnan(a)])\n"
   ],
   "metadata": {
    "collapsed": false,
    "pycharm": {
     "name": "#%%\n",
     "is_executing": false
    }
   }
  }
 ],
 "metadata": {
  "kernelspec": {
   "display_name": "Python 3",
   "language": "python",
   "name": "python3"
  },
  "language_info": {
   "codemirror_mode": {
    "name": "ipython",
    "version": 2
   },
   "file_extension": ".py",
   "mimetype": "text/x-python",
   "name": "python",
   "nbconvert_exporter": "python",
   "pygments_lexer": "ipython2",
   "version": "2.7.6"
  },
  "pycharm": {
   "stem_cell": {
    "cell_type": "raw",
    "source": [],
    "metadata": {
     "collapsed": false
    }
   }
  }
 },
 "nbformat": 4,
 "nbformat_minor": 0
}