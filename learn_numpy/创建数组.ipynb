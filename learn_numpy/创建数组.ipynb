{
 "cells": [
  {
   "cell_type": "code",
   "execution_count": 18,
   "outputs": [
    {
     "name": "stdout",
     "text": [
      "[[1 2]\n [3 4]]\n"
     ],
     "output_type": "stream"
    }
   ],
   "source": [
    "import numpy as np;\n",
    "np.set_printoptions(suppress=True) #不使用科学计数法\n",
    "#创建矩阵\n",
    "a=np.array([[1,2],[3,4]]);\n",
    "print(a)"
   ],
   "metadata": {
    "collapsed": false,
    "pycharm": {
     "name": "#%%\n",
     "is_executing": false
    }
   }
  },
  {
   "cell_type": "code",
   "execution_count": 19,
   "outputs": [
    {
     "name": "stdout",
     "text": [
      "[[0. 0. 0.]\n [0. 0. 0.]\n [0. 0. 0.]\n [0. 0. 0.]]\n[[0. 0. 0. 0.]\n [0. 0. 0. 0.]\n [0. 0. 0. 0.]\n [0. 0. 0. 0.]]\n"
     ],
     "output_type": "stream"
    }
   ],
   "source": [
    "# 创建一个4行3列的空数组\n",
    "print(np.empty((4,3)))\n",
    "#创建一个 4*4矩阵 默认值都是0\n",
    "print(np.zeros((4,4)))"
   ],
   "metadata": {
    "collapsed": false,
    "pycharm": {
     "name": "#%%\n",
     "is_executing": false
    }
   }
  },
  {
   "cell_type": "code",
   "execution_count": 24,
   "outputs": [
    {
     "name": "stdout",
     "text": [
      "[[1. 0. 0. 0.]\n [0. 1. 0. 0.]\n [0. 0. 1. 0.]\n [0. 0. 0. 1.]]\n"
     ],
     "output_type": "stream"
    }
   ],
   "source": [
    "#创建一个方形矩阵 对角线是1  其他值都是0\n",
    "\"\"\"\n",
    "对角线，几何学名词，定义为连接多边形任意两个不相邻顶点的线段，或者连接多面体任意两个不在同一面上的顶点的线段\n",
    "另外在代数学中，n阶行列式，从左上至右下的数归为主对角线，从左下至右上的数归为副对角线\n",
    "[[1. 0. 0. 0.]\n",
    " [0. 1. 0. 0.]\n",
    " [0. 0. 1. 0.]\n",
    " [0. 0. 0. 1.]]\n",
    "\"\"\"\n",
    "po=np.eye(4)\n",
    "print(po);"
   ],
   "metadata": {
    "collapsed": false,
    "pycharm": {
     "name": "#%%\n",
     "is_executing": false
    }
   }
  },
  {
   "cell_type": "code",
   "execution_count": null,
   "outputs": [],
   "source": [
    "# 创建一个 3*3矩阵 默认值都是1\n",
    "print(np.ones((3,3)))"
   ],
   "metadata": {
    "collapsed": false,
    "pycharm": {
     "name": "#%%\n"
    }
   }
  },
  {
   "cell_type": "code",
   "execution_count": 25,
   "metadata": {
    "collapsed": true,
    "pycharm": {
     "is_executing": false
    }
   },
   "outputs": [
    {
     "name": "stdout",
     "text": [
      "[[5 5 5 5 5]\n [5 5 5 5 5]\n [5 5 5 5 5]\n [5 5 5 5 5]\n [5 5 5 5 5]]\n"
     ],
     "output_type": "stream"
    }
   ],
   "source": [
    "#创建一个5*5矩阵 初始值全部是5\n",
    "po=np.full((5,5),5)\n",
    "print(po);"
   ]
  },
  {
   "cell_type": "code",
   "execution_count": 27,
   "outputs": [
    {
     "name": "stdout",
     "text": [
      "[-10  -9  -8  -7  -6  -5  -4  -3  -2  -1   0   1   2   3   4   5   6   7\n   8   9]\n[-10  -9  -8  -7  -6  -5  -4  -3  -2  -1   0   1   2   3   4   5   6   7\n   8   9]\n"
     ],
     "output_type": "stream"
    }
   ],
   "source": [
    "# 产生一个等差数列 1、arange(start，stop，step)  step是差值,步长\n",
    "bb=np.arange(-10,10,1) #等价np.array([n for n in range(-10,10,1)]);#等价\n",
    "print(bb)\n",
    "print(np.array([n for n in range(-10,10,1)]))"
   ],
   "metadata": {
    "collapsed": false,
    "pycharm": {
     "name": "#%%\n",
     "is_executing": false
    }
   }
  },
  {
   "cell_type": "code",
   "execution_count": 22,
   "outputs": [
    {
     "name": "stdout",
     "text": [
      "[ 2.  4.  6.  8. 10. 12. 14. 16. 18. 20.]\n"
     ],
     "output_type": "stream"
    }
   ],
   "source": [
    "#创建等差数列 linspace(start,stop,num) 这里的num是个数，表示在start和stop之间创建num个值\n",
    "matrix_linspace = np.linspace(2,20,10)\n",
    "print(matrix_linspace);\n"
   ],
   "metadata": {
    "collapsed": false,
    "pycharm": {
     "name": "#%%\n",
     "is_executing": false
    }
   }
  },
  {
   "cell_type": "code",
   "execution_count": 23,
   "outputs": [
    {
     "name": "stdout",
     "text": [
      "[1.e+02 1.e+04 1.e+06 1.e+08 1.e+10 1.e+12 1.e+14 1.e+16 1.e+18 1.e+20]\n"
     ],
     "output_type": "stream"
    }
   ],
   "source": [
    "#logspace创建等比数列 logspace(start,stop,num) 同linspace，这里的num指的是个数，指在start和stop之间创建num个数\n",
    "matrix_logspace = np.logspace(2,20,10)\n",
    "print(matrix_logspace)"
   ],
   "metadata": {
    "collapsed": false,
    "pycharm": {
     "name": "#%%\n",
     "is_executing": false
    }
   }
  },
  {
   "cell_type": "code",
   "execution_count": 28,
   "outputs": [
    {
     "name": "stdout",
     "text": [
      "[[[0 0 0 0]\n  [1 1 1 1]\n  [2 2 2 2]]\n\n [[0 1 2 3]\n  [0 1 2 3]\n  [0 1 2 3]]]\n"
     ],
     "output_type": "stream"
    }
   ],
   "source": [
    "'''\n",
    "沿着轴线将数据设置成索引值\n",
    "[[[0 0 0 0]\n",
    "  [1 1 1 1]\n",
    "  [2 2 2 2]] 水平\n",
    " [[0 1 2 3]\n",
    "  [0 1 2 3]\n",
    "  [0 1 2 3]]] 垂直\n",
    "'''\n",
    "po=np.indices((3,4));\n",
    "print(po);\n"
   ],
   "metadata": {
    "collapsed": false,
    "pycharm": {
     "name": "#%%\n",
     "is_executing": false
    }
   }
  }
 ],
 "metadata": {
  "kernelspec": {
   "display_name": "Python 3",
   "language": "python",
   "name": "python3"
  },
  "language_info": {
   "codemirror_mode": {
    "name": "ipython",
    "version": 2
   },
   "file_extension": ".py",
   "mimetype": "text/x-python",
   "name": "python",
   "nbconvert_exporter": "python",
   "pygments_lexer": "ipython2",
   "version": "2.7.6"
  },
  "pycharm": {
   "stem_cell": {
    "cell_type": "raw",
    "source": [],
    "metadata": {
     "collapsed": false
    }
   }
  }
 },
 "nbformat": 4,
 "nbformat_minor": 0
}