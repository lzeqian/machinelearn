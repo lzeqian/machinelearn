{
 "cells": [
  {
   "cell_type": "code",
   "execution_count": 124,
   "metadata": {
    "collapsed": true,
    "pycharm": {
     "is_executing": false
    }
   },
   "outputs": [
    {
     "name": "stdout",
     "text": [
      "[[1 1]\n [1 3]\n [2 3]\n [4 4]\n [2 4]]\n"
     ],
     "output_type": "stream"
    }
   ],
   "source": [
    "import numpy as np;\n",
    "import matplotlib.pyplot as plot;\n",
    "# 数学中行是表示特征\n",
    "X=np.array([\n",
    "    [1,1,2,4,2],\n",
    "    [1,3,3,4,4]\n",
    "])\n",
    "# 转置为列为特征\n",
    "X=X.T\n",
    "print(X)"
   ]
  },
  {
   "cell_type": "code",
   "execution_count": 125,
   "outputs": [
    {
     "name": "stdout",
     "text": [
      "均值： [2. 3.]\n[[-1. -2.]\n [-1.  0.]\n [ 0.  0.]\n [ 2.  1.]\n [ 0.  1.]]\n"
     ],
     "output_type": "stream"
    }
   ],
   "source": [
    "#均值归零\n",
    "x_demean=np.mean(X,axis=0)\n",
    "X_Zero=X-x_demean\n",
    "print(\"均值：\",x_demean)\n",
    "print(X_Zero)"
   ],
   "metadata": {
    "collapsed": false,
    "pycharm": {
     "name": "#%%\n",
     "is_executing": false
    }
   }
  },
  {
   "cell_type": "code",
   "execution_count": 126,
   "outputs": [
    {
     "name": "stdout",
     "text": [
      "协方差： [[1.5 1. ]\n [1.  1.5]] \n [[1.5 1. ]\n [1.  1.5]]\n"
     ],
     "output_type": "stream"
    }
   ],
   "source": [
    "#计算对应的协方差矩阵,手撕或者使用np.conv\n",
    "con=X_Zero.T.dot(X_Zero)/(len(X_Zero)-1)\n",
    "con1=np.cov(X_Zero,rowvar=False)\n",
    "print(\"协方差：\",con,\"\\n\",con1)"
   ],
   "metadata": {
    "collapsed": false,
    "pycharm": {
     "name": "#%%\n",
     "is_executing": false
    }
   }
  },
  {
   "cell_type": "code",
   "execution_count": 127,
   "outputs": [
    {
     "name": "stdout",
     "text": [
      "特征值-特征向量 [(2.5, array([0.70710678, 0.70710678])), (0.5, array([-0.70710678,  0.70710678]))]\n"
     ],
     "output_type": "stream"
    }
   ],
   "source": [
    "#依据协方差矩阵计算特征值和特征向量,转换参考 矩阵计算.ipynb\n",
    "f_value,f_vector=np.linalg.eig(con)\n",
    "eig=[(f_value[i],f_vector[:,i])for i in range(len(f_value))]\n",
    "print(\"特征值-特征向量\",eig)"
   ],
   "metadata": {
    "collapsed": false,
    "pycharm": {
     "name": "#%%\n",
     "is_executing": false
    }
   }
  },
  {
   "cell_type": "code",
   "execution_count": 128,
   "outputs": [
    {
     "name": "stdout",
     "text": [
      "[[-2.12132034 -0.70710678  0.          2.12132034  0.70710678]]\n[[-2.12132034]\n [-0.70710678]\n [ 0.        ]\n [ 2.12132034]\n [ 0.70710678]]\n"
     ],
     "output_type": "stream"
    }
   ],
   "source": [
    "#获取最大值的索引\n",
    "max_f_value_index=np.argsort(f_value)[::-1][0]\n",
    "print(np.array([eig[max_f_value_index][1]]).dot(X_Zero.T))\n",
    "print(X_Zero.dot(np.array([eig[max_f_value_index][1]]).T))\n"
   ],
   "metadata": {
    "collapsed": false,
    "pycharm": {
     "name": "#%%\n",
     "is_executing": false
    }
   }
  }
 ],
 "metadata": {
  "kernelspec": {
   "display_name": "Python 3",
   "language": "python",
   "name": "python3"
  },
  "language_info": {
   "codemirror_mode": {
    "name": "ipython",
    "version": 2
   },
   "file_extension": ".py",
   "mimetype": "text/x-python",
   "name": "python",
   "nbconvert_exporter": "python",
   "pygments_lexer": "ipython2",
   "version": "2.7.6"
  },
  "pycharm": {
   "stem_cell": {
    "cell_type": "raw",
    "source": [],
    "metadata": {
     "collapsed": false
    }
   }
  }
 },
 "nbformat": 4,
 "nbformat_minor": 0
}