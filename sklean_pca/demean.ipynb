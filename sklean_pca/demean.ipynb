{
 "cells": [
  {
   "cell_type": "code",
   "execution_count": 49,
   "metadata": {
    "collapsed": true,
    "pycharm": {
     "is_executing": false
    }
   },
   "outputs": [
    {
     "data": {
      "text/plain": "<Figure size 432x288 with 1 Axes>",
      "image/png": "[encoded data removed]"
     },
     "metadata": {
      "needs_background": "light"
     },
     "output_type": "display_data"
    }
   ],
   "source": [
    "import numpy as np;\n",
    "import matplotlib.pyplot as plot\n",
    "from commons.common import setXY\n",
    "#生成一个 3x+4附近的点\n",
    "np.random.seed(100);\n",
    "# 获取randc个随机点\n",
    "randc=20\n",
    "x1=np.random.rand(randc);\n",
    "x2=x1*3+4+np.random.rand(randc);\n",
    "plot.plot(x1,x2,\"o\");"
   ]
  },
  {
   "cell_type": "code",
   "execution_count": 50,
   "outputs": [
    {
     "name": "stdout",
     "text": [
      "[[0.54340494 6.06191901]\n [0.27836939 5.77513797]\n [0.42451759 6.09120215]\n [0.84477613 6.87044035]\n [0.00471886 4.18956702]\n [0.12156912 4.73753941]\n [0.67074908 6.01793576]\n [0.82585276 6.72998462]\n [0.13670659 5.20578228]\n [0.57509333 5.74053496]\n [0.89132195 7.27280924]\n [0.20920212 5.23141091]\n [0.18532822 4.66113234]\n [0.10837689 4.70707412]\n [0.21969749 4.69556853]\n [0.97862378 7.82628292]\n [0.81168315 7.4159703 ]\n [0.17194101 4.57576503]\n [0.81622475 7.33922019]\n [0.27407375 5.39912274]]\n"
     ],
     "output_type": "stream"
    }
   ],
   "source": [
    "#使用矩阵数组表示,x1,x2  x1和x2是两个特征\n",
    "'''\n",
    "[   [x1,x2]\n",
    "    [1,2],\n",
    "    [3,4]\n",
    "]\n",
    "X=x1.reshape(-1,1); 等价于x1.reshape(len(x1),1)\n",
    "[1,2]转换为\n",
    "x1=[\n",
    "  [1],\n",
    "  [2]\n",
    "]\n",
    "x2=[\n",
    "  [4],\n",
    "  [5]\n",
    "]\n",
    "x1.hstack(x2)\n",
    "[\n",
    "  [1,4],\n",
    "  [2,5]\n",
    "]\n",
    "'''\n",
    "X=np.hstack((x1.reshape(len(x1),1),x2.reshape(len(x2),1)))\n",
    "print(X)"
   ],
   "metadata": {
    "collapsed": false,
    "pycharm": {
     "name": "#%%\n",
     "is_executing": false
    }
   }
  },
  {
   "cell_type": "code",
   "execution_count": 51,
   "outputs": [
    {
     "data": {
      "text/plain": "<Figure size 432x288 with 1 Axes>",
      "image/png": "[encoded data removed]"
     },
     "metadata": {
      "needs_background": "light"
     },
     "output_type": "display_data"
    }
   ],
   "source": [
    "np.set_printoptions(suppress=True) #不使用科学计数法\n",
    "setXY()\n",
    "def demean(X):\n",
    "    return X-np.mean(X,axis=0) #取对应列的均值\n",
    "#均值归零的算法是x1-xmean，x2-x2mean\n",
    "X_demean=demean(X)\n",
    "plot.plot(X_demean[:,0],X_demean[:,1],\"o\");\n",
    " \n"
   ],
   "metadata": {
    "collapsed": false,
    "pycharm": {
     "name": "#%%\n",
     "is_executing": false
    }
   }
  },
  {
   "cell_type": "code",
   "execution_count": null,
   "outputs": [],
   "source": [
    "\n"
   ],
   "metadata": {
    "collapsed": false,
    "pycharm": {
     "name": "#%%\n"
    }
   }
  }
 ],
 "metadata": {
  "kernelspec": {
   "display_name": "Python 3",
   "language": "python",
   "name": "python3"
  },
  "language_info": {
   "codemirror_mode": {
    "name": "ipython",
    "version": 2
   },
   "file_extension": ".py",
   "mimetype": "text/x-python",
   "name": "python",
   "nbconvert_exporter": "python",
   "pygments_lexer": "ipython2",
   "version": "2.7.6"
  },
  "pycharm": {
   "stem_cell": {
    "cell_type": "raw",
    "source": [],
    "metadata": {
     "collapsed": false
    }
   }
  }
 },
 "nbformat": 4,
 "nbformat_minor": 0
}