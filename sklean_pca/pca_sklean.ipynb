{
 "cells": [
  {
   "cell_type": "code",
   "execution_count": 7,
   "metadata": {
    "collapsed": true,
    "pycharm": {
     "is_executing": false
    }
   },
   "outputs": [
    {
     "name": "stdout",
     "text": [
      "[[ 2.12132034]\n [ 0.70710678]\n [-0.        ]\n [-2.12132034]\n [-0.70710678]]\n[2.5]\n[[-0.70710678 -0.70710678]]\n"
     ],
     "output_type": "stream"
    }
   ],
   "source": [
    "from sklearn.decomposition import PCA\n",
    "import numpy as np\n",
    "\n",
    "X = [[1, 1], [1, 3], [2, 3], [4, 4], [2, 4]]\n",
    "X = np.array(X)\n",
    "pca = PCA(n_components=1)\n",
    "PCA_mat = pca.fit_transform(X)\n",
    "\n",
    "print(PCA_mat)\n",
    "#特征值\n",
    "print(pca.explained_variance_)\n",
    "#特征向量\n",
    "print(pca.components_)\n"
   ]
  }
 ],
 "metadata": {
  "kernelspec": {
   "display_name": "Python 3",
   "language": "python",
   "name": "python3"
  },
  "language_info": {
   "codemirror_mode": {
    "name": "ipython",
    "version": 2
   },
   "file_extension": ".py",
   "mimetype": "text/x-python",
   "name": "python",
   "nbconvert_exporter": "python",
   "pygments_lexer": "ipython2",
   "version": "2.7.6"
  },
  "pycharm": {
   "stem_cell": {
    "cell_type": "raw",
    "source": [],
    "metadata": {
     "collapsed": false
    }
   }
  }
 },
 "nbformat": 4,
 "nbformat_minor": 0
}